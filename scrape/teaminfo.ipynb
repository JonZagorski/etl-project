{
 "metadata": {
  "language_info": {
   "codemirror_mode": {
    "name": "ipython",
    "version": 3
   },
   "file_extension": ".py",
   "mimetype": "text/x-python",
   "name": "python",
   "nbconvert_exporter": "python",
   "pygments_lexer": "ipython3",
   "version": "3.8.3-final"
  },
  "orig_nbformat": 2,
  "kernelspec": {
   "name": "Python 3.8.3 64-bit ('base': conda)",
   "display_name": "Python 3.8.3 64-bit ('base': conda)",
   "metadata": {
    "interpreter": {
     "hash": "8caa3d8257df51217abe3f3d6c616091ac386792819c8553bf81ddb264746820"
    }
   }
  }
 },
 "nbformat": 4,
 "nbformat_minor": 2,
 "cells": [
  {
   "cell_type": "code",
   "execution_count": 54,
   "metadata": {},
   "outputs": [],
   "source": [
    "from bs4 import BeautifulSoup as bs\n",
    "from pandas import DataFrame as pd \n",
    "import requests as req\n",
    "from splinter import Browser\n",
    "from selenium import webdriver\n",
    "import time\n",
    "import pymongo"
   ]
  },
  {
   "cell_type": "code",
   "execution_count": 55,
   "metadata": {},
   "outputs": [],
   "source": [
    "conn = 'mongodb://localhost:27017'\n",
    "client = pymongo.MongoClient(conn)"
   ]
  },
  {
   "cell_type": "code",
   "execution_count": 56,
   "metadata": {},
   "outputs": [],
   "source": [
    "db = client.nfl_db\n",
    "collection = db.teams"
   ]
  },
  {
   "cell_type": "code",
   "execution_count": 57,
   "metadata": {},
   "outputs": [],
   "source": [
    "executable_path = {'executable_path': 'chromedriver.exe'}\n",
    "browser = Browser('chrome', **executable_path, headless=False)"
   ]
  },
  {
   "cell_type": "code",
   "execution_count": 58,
   "metadata": {},
   "outputs": [],
   "source": [
    "years = [2015, 2016, 2017, 2018, 2019]\n",
    "abbs =['buf', 'nwe','mia','nyj','oti','clt','htx','jax','pit','cle','rav','cin','kan','rai','den','sdg','dal','phi','was','nyg','car','nor','tam','atl','gnb','chi','det','min','sea','ram','crd','sfo']\n"
   ]
  },
  {
   "cell_type": "code",
   "execution_count": 59,
   "metadata": {},
   "outputs": [],
   "source": [
    "for abb in abbs:\n",
    "    url = f\"https://www.pro-football-reference.com/teams/{abb}/2015.htm\"\n",
    "    browser.visit(url)\n",
    "    time.sleep(5)\n",
    "    \n",
    "    for year in years:\n",
    "\n",
    "\n",
    "        url = f\"https://www.pro-football-reference.com/teams/{abb}/{year}.htm\"\n",
    "        browser.visit(url)\n",
    "        time.sleep(5)\n",
    "        html = browser.html\n",
    "        soup = bs(html, \"html.parser\")\n",
    "        info = soup.find('div', {'data-template':'Partials/Teams/Summary'})\n",
    "        team = info.find('h1')\n",
    "        yearscraped = team.find_all('span')[0].text\n",
    "        team_name = team.find_all('span')[1].text\n",
    "        \n",
    "        \n",
    "        coach = info.find_all('p')[1]\n",
    "        name = coach.find('a').text\n",
    "        stadium = info.find_all('p')[9]\n",
    "        stadium_name = stadium.find('a').text\n",
    "        team_data = {\n",
    "        \n",
    "        \"year\": yearscraped,   \n",
    "        \"team\": team_name,\n",
    "        \"coach\": name,\n",
    "        \"stadium\": stadium_name\n",
    "        }\n",
    "        \n",
    "        collection.insert_one(team_data)\n",
    "        \n",
    "\n",
    "        "
   ]
  },
  {
   "cell_type": "code",
   "execution_count": 51,
   "metadata": {},
   "outputs": [
    {
     "output_type": "execute_result",
     "data": {
      "text/plain": [
       "{'year': '2018',\n",
       " 'team': 'New England Patriots',\n",
       " 'coach': 'Bill Belichick',\n",
       " 'stadium': 'Bill Belichick'}"
      ]
     },
     "metadata": {},
     "execution_count": 51
    }
   ],
   "source": [
    "team_data"
   ]
  },
  {
   "cell_type": "code",
   "execution_count": 17,
   "metadata": {},
   "outputs": [],
   "source": [
    "\n",
    "        "
   ]
  },
  {
   "cell_type": "code",
   "execution_count": 35,
   "metadata": {},
   "outputs": [
    {
     "output_type": "execute_result",
     "data": {
      "text/plain": [
       "{'coach': 'Kyle Shanahan'}"
      ]
     },
     "metadata": {},
     "execution_count": 35
    }
   ],
   "source": [
    "#stadium in <p>[8]\n",
    "#gm is <p>[9]"
   ]
  }
 ]
}