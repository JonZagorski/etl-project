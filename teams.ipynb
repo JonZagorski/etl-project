{
 "metadata": {
  "language_info": {
   "codemirror_mode": {
    "name": "ipython",
    "version": 3
   },
   "file_extension": ".py",
   "mimetype": "text/x-python",
   "name": "python",
   "nbconvert_exporter": "python",
   "pygments_lexer": "ipython3",
   "version": "3.6.10-final"
  },
  "orig_nbformat": 2,
  "kernelspec": {
   "name": "Python 3.6.10 64-bit ('PythonData': conda)",
   "display_name": "Python 3.6.10 64-bit ('PythonData': conda)",
   "metadata": {
    "interpreter": {
     "hash": "efa804887361d121f52264c6efbf07398d055e6daa09099da54060c788310a3d"
    }
   }
  }
 },
 "nbformat": 4,
 "nbformat_minor": 2,
 "cells": [
  {
   "cell_type": "code",
   "execution_count": 64,
   "metadata": {},
   "outputs": [],
   "source": [
    "#Imports & Dependencies\n",
    "from splinter import Browser\n",
    "from bs4 import BeautifulSoup as bs\n",
    "import time\n",
    "import pandas as pd\n",
    "import pymongo"
   ]
  },
  {
   "cell_type": "code",
   "execution_count": 65,
   "metadata": {},
   "outputs": [],
   "source": [
    "#Site Navigation\n",
    "executable_path = {\"executable_path\": \"chromedriver.exe\"}\n",
    "browser = Browser(\"chrome\", **executable_path, headless=False)"
   ]
  },
  {
   "cell_type": "code",
   "execution_count": 66,
   "metadata": {},
   "outputs": [],
   "source": [
    "#teams_df = pd.DataFrame({ \"Team\": [\"Arizona Cardinals\", \"Alanta Falcons\", \"Baltomore Ravens\", \"Buffalo Bills\"], \"Average Purchase Price\": [male_avg_price, female_avg_price, Others_avg_price] })"
   ]
  },
  {
   "cell_type": "code",
   "execution_count": 67,
   "metadata": {},
   "outputs": [],
   "source": [
    "teams_url = \"https://www.pro-football-reference.com/years/2019/attendance.htm\"\n",
    "browser.visit(teams_url)\n",
    "teams_html = browser.html\n",
    "soup = bs(teams_html, \"html.parser\")\n"
   ]
  },
  {
   "cell_type": "code",
   "execution_count": 68,
   "metadata": {},
   "outputs": [],
   "source": [
    "facts = soup.find(\"div\", class_=\"overthrow table_container\", id_=\"div_attendance\")\n",
    "tables = pd.read_html(teams_url)\n",
    "df = tables[0]\n",
    "# Drop NAN in data frame\n",
    "df_dropna = df.dropna()\n"
   ]
  },
  {
   "cell_type": "code",
   "execution_count": 69,
   "metadata": {},
   "outputs": [],
   "source": [
    "abbreviation = [\"crd\", \"atl\", \"rav\", \"buf\", \"car\", \"chi\", \"cin\", \"cle\", \"dal\", \"den\", \"det\", \"gnb\", \"htx\", \"clt\", \"jax\", \"kan\", \"sdg\", \"ram\", \"mia\", \"min\", \"nwe\", \"nor\", \"nyg\", \"nyj\", \"rai\", \"phi\", \"pit\", \"sfo\", \"sea\", \"tam\", \"oti\", \"was\"]"
   ]
  },
  {
   "cell_type": "code",
   "execution_count": 70,
   "metadata": {},
   "outputs": [
    {
     "output_type": "execute_result",
     "data": {
      "text/plain": [
       "pandas.core.frame.DataFrame"
      ]
     },
     "metadata": {},
     "execution_count": 70
    }
   ],
   "source": [
    "# Add \"Abbrevation\" column in dataframe\n",
    "df_dropna['Abbrevation'] = abbreviation\n",
    "\n",
    "# Rename Tm to Team\n",
    "df_dropna = df_dropna.rename(columns={\"Tm\": 'Team'})\n",
    "type(df_dropna)\n",
    "\n"
   ]
  },
  {
   "cell_type": "code",
   "execution_count": 71,
   "metadata": {},
   "outputs": [
    {
     "output_type": "execute_result",
     "data": {
      "text/plain": [
       "                    Team Abbrevation\n",
       "0      Arizona Cardinals         crd\n",
       "1        Atlanta Falcons         atl\n",
       "2       Baltimore Ravens         rav\n",
       "3          Buffalo Bills         buf\n",
       "4      Carolina Panthers         car\n",
       "5          Chicago Bears         chi\n",
       "6     Cincinnati Bengals         cin\n",
       "7       Cleveland Browns         cle\n",
       "8         Dallas Cowboys         dal\n",
       "9         Denver Broncos         den\n",
       "10         Detroit Lions         det\n",
       "11     Green Bay Packers         gnb\n",
       "12        Houston Texans         htx\n",
       "13    Indianapolis Colts         clt\n",
       "14  Jacksonville Jaguars         jax\n",
       "15    Kansas City Chiefs         kan\n",
       "16  Los Angeles Chargers         sdg\n",
       "17      Los Angeles Rams         ram\n",
       "18        Miami Dolphins         mia\n",
       "19     Minnesota Vikings         min\n",
       "20  New England Patriots         nwe\n",
       "21    New Orleans Saints         nor\n",
       "22       New York Giants         nyg\n",
       "23         New York Jets         nyj\n",
       "24       Oakland Raiders         rai\n",
       "25   Philadelphia Eagles         phi\n",
       "26   Pittsburgh Steelers         pit\n",
       "27   San Francisco 49ers         sfo\n",
       "28      Seattle Seahawks         sea\n",
       "29  Tampa Bay Buccaneers         tam\n",
       "30      Tennessee Titans         oti\n",
       "31   Washington Redskins         was"
      ],
      "text/html": "<div>\n<style scoped>\n    .dataframe tbody tr th:only-of-type {\n        vertical-align: middle;\n    }\n\n    .dataframe tbody tr th {\n        vertical-align: top;\n    }\n\n    .dataframe thead th {\n        text-align: right;\n    }\n</style>\n<table border=\"1\" class=\"dataframe\">\n  <thead>\n    <tr style=\"text-align: right;\">\n      <th></th>\n      <th>Team</th>\n      <th>Abbrevation</th>\n    </tr>\n  </thead>\n  <tbody>\n    <tr>\n      <th>0</th>\n      <td>Arizona Cardinals</td>\n      <td>crd</td>\n    </tr>\n    <tr>\n      <th>1</th>\n      <td>Atlanta Falcons</td>\n      <td>atl</td>\n    </tr>\n    <tr>\n      <th>2</th>\n      <td>Baltimore Ravens</td>\n      <td>rav</td>\n    </tr>\n    <tr>\n      <th>3</th>\n      <td>Buffalo Bills</td>\n      <td>buf</td>\n    </tr>\n    <tr>\n      <th>4</th>\n      <td>Carolina Panthers</td>\n      <td>car</td>\n    </tr>\n    <tr>\n      <th>5</th>\n      <td>Chicago Bears</td>\n      <td>chi</td>\n    </tr>\n    <tr>\n      <th>6</th>\n      <td>Cincinnati Bengals</td>\n      <td>cin</td>\n    </tr>\n    <tr>\n      <th>7</th>\n      <td>Cleveland Browns</td>\n      <td>cle</td>\n    </tr>\n    <tr>\n      <th>8</th>\n      <td>Dallas Cowboys</td>\n      <td>dal</td>\n    </tr>\n    <tr>\n      <th>9</th>\n      <td>Denver Broncos</td>\n      <td>den</td>\n    </tr>\n    <tr>\n      <th>10</th>\n      <td>Detroit Lions</td>\n      <td>det</td>\n    </tr>\n    <tr>\n      <th>11</th>\n      <td>Green Bay Packers</td>\n      <td>gnb</td>\n    </tr>\n    <tr>\n      <th>12</th>\n      <td>Houston Texans</td>\n      <td>htx</td>\n    </tr>\n    <tr>\n      <th>13</th>\n      <td>Indianapolis Colts</td>\n      <td>clt</td>\n    </tr>\n    <tr>\n      <th>14</th>\n      <td>Jacksonville Jaguars</td>\n      <td>jax</td>\n    </tr>\n    <tr>\n      <th>15</th>\n      <td>Kansas City Chiefs</td>\n      <td>kan</td>\n    </tr>\n    <tr>\n      <th>16</th>\n      <td>Los Angeles Chargers</td>\n      <td>sdg</td>\n    </tr>\n    <tr>\n      <th>17</th>\n      <td>Los Angeles Rams</td>\n      <td>ram</td>\n    </tr>\n    <tr>\n      <th>18</th>\n      <td>Miami Dolphins</td>\n      <td>mia</td>\n    </tr>\n    <tr>\n      <th>19</th>\n      <td>Minnesota Vikings</td>\n      <td>min</td>\n    </tr>\n    <tr>\n      <th>20</th>\n      <td>New England Patriots</td>\n      <td>nwe</td>\n    </tr>\n    <tr>\n      <th>21</th>\n      <td>New Orleans Saints</td>\n      <td>nor</td>\n    </tr>\n    <tr>\n      <th>22</th>\n      <td>New York Giants</td>\n      <td>nyg</td>\n    </tr>\n    <tr>\n      <th>23</th>\n      <td>New York Jets</td>\n      <td>nyj</td>\n    </tr>\n    <tr>\n      <th>24</th>\n      <td>Oakland Raiders</td>\n      <td>rai</td>\n    </tr>\n    <tr>\n      <th>25</th>\n      <td>Philadelphia Eagles</td>\n      <td>phi</td>\n    </tr>\n    <tr>\n      <th>26</th>\n      <td>Pittsburgh Steelers</td>\n      <td>pit</td>\n    </tr>\n    <tr>\n      <th>27</th>\n      <td>San Francisco 49ers</td>\n      <td>sfo</td>\n    </tr>\n    <tr>\n      <th>28</th>\n      <td>Seattle Seahawks</td>\n      <td>sea</td>\n    </tr>\n    <tr>\n      <th>29</th>\n      <td>Tampa Bay Buccaneers</td>\n      <td>tam</td>\n    </tr>\n    <tr>\n      <th>30</th>\n      <td>Tennessee Titans</td>\n      <td>oti</td>\n    </tr>\n    <tr>\n      <th>31</th>\n      <td>Washington Redskins</td>\n      <td>was</td>\n    </tr>\n  </tbody>\n</table>\n</div>"
     },
     "metadata": {},
     "execution_count": 71
    }
   ],
   "source": [
    "# Only selecet Team and Abbrevation columns\n",
    "new_df = df_dropna.drop(columns=['Total', 'Home', 'Away','Week 1', 'Week 2', 'Week 3', 'Week 4', 'Week 5', 'Week 6', 'Week 7', 'Week 8', 'Week 9', 'Week 10', 'Week 11', 'Week 12', 'Week 13', 'Week 14', 'Week 15', 'Week 16', 'Week 17'])\n",
    "\n",
    "new_df\n"
   ]
  },
  {
   "cell_type": "code",
   "execution_count": null,
   "metadata": {},
   "outputs": [],
   "source": []
  }
 ]
}